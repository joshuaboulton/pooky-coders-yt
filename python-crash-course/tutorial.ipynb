{
 "cells": [
  {
   "cell_type": "markdown",
   "id": "extra-connecticut",
   "metadata": {},
   "source": [
    "### What is this?\n",
    "This is a jupyter notebook. It allows you to run python code as well \n",
    "and display text."
   ]
  },
  {
   "cell_type": "markdown",
   "id": "plastic-steering",
   "metadata": {},
   "source": [
    "### What is Python?\n",
    "Python is a programming language. \n",
    "It's a way to convey to the computer what we want it to do"
   ]
  },
  {
   "cell_type": "markdown",
   "id": "acting-reward",
   "metadata": {},
   "source": [
    "### Where is Python used?\n",
    "Python is used for web development, app development, and even artificial intelligence!"
   ]
  },
  {
   "cell_type": "markdown",
   "id": "mounted-trail",
   "metadata": {},
   "source": [
    "### How do I use Python?\n",
    "You can install Python with these following choices\n",
    "- Installing Python Directly from the website\n",
    "- Installing Python through Anaconda or Miniconda : https://www.youtube.com/watch?v=MXRPpXy-4ew\n",
    "- Or use repl.it to use it online : https://repl.it"
   ]
  },
  {
   "cell_type": "markdown",
   "id": "accompanied-target",
   "metadata": {},
   "source": [
    "## Variables\n",
    "Variables are separated into different categories called \"types\"\n",
    "- string (\"hello\", \"hi\", \"\", \"a string is a sequence of characters\")\n",
    "- int (1, 3, 10, -11, 25)\n",
    "- float (1.0, 2.33, -23.5)\n",
    "- booleans (True, False, 23 > 25, \"hello\" == \"hi\")"
   ]
  },
  {
   "cell_type": "markdown",
   "id": "spoken-southwest",
   "metadata": {},
   "source": [
    "## Assignment\n",
    "To assign a value to a variable, we use the = operator.\n",
    "We put the name of the variable, the equal operator, followed by the value\n",
    "The name of the variable follows snake case, meaning that each words in your variable name is separated by underscores like this.\n",
    "- `my_variable_name`\n",
    "- `pooky_codes_age`\n",
    "- `is_python_awesome`\n",
    "\n",
    "\n",
    "Example : "
   ]
  },
  {
   "cell_type": "code",
   "execution_count": 3,
   "id": "capable-publication",
   "metadata": {},
   "outputs": [],
   "source": [
    "age = 19"
   ]
  },
  {
   "cell_type": "code",
   "execution_count": 4,
   "id": "irish-yacht",
   "metadata": {},
   "outputs": [],
   "source": [
    "name = \"Pooky Codes\""
   ]
  },
  {
   "cell_type": "code",
   "execution_count": 5,
   "id": "julian-chapel",
   "metadata": {},
   "outputs": [],
   "source": [
    "has_youtube = True"
   ]
  },
  {
   "cell_type": "markdown",
   "id": "framed-explorer",
   "metadata": {},
   "source": [
    "### Operators\n",
    "We can perform calculations by using +, - , *, / and even %\n",
    "- `1 + 1` (2)\n",
    "- `3 - 1` (2)\n",
    "- `25 *3` (75)\n",
    "- `13 / 3` (4.3333333333333)\n",
    "- `16 % 4` (0)"
   ]
  },
  {
   "cell_type": "code",
   "execution_count": 6,
   "id": "posted-cradle",
   "metadata": {},
   "outputs": [
    {
     "data": {
      "text/plain": [
       "100.0"
      ]
     },
     "execution_count": 6,
     "metadata": {},
     "output_type": "execute_result"
    }
   ],
   "source": [
    "25 * ((3 + 5) / 2)"
   ]
  },
  {
   "cell_type": "markdown",
   "id": "virtual-programmer",
   "metadata": {},
   "source": [
    "### Basic Functionalities\n",
    "Here are a few methods that you'll likely use a lot.\n",
    "- `print(message)`. Shows a message to the screen  \n",
    "- `len(list)`. Calculates the length of a list"
   ]
  },
  {
   "cell_type": "markdown",
   "id": "endless-collaboration",
   "metadata": {},
   "source": [
    "### Conditionals\n",
    "With the help of conditional statements, we can execute one piece of code instead of another."
   ]
  },
  {
   "cell_type": "code",
   "execution_count": null,
   "id": "running-evanescence",
   "metadata": {},
   "outputs": [],
   "source": [
    "age = 13\n",
    "if age > 25:\n",
    "    print(\"age is bigger than 25\")\n",
    "elif age > 20:\n",
    "    print(\"age is bigger than 20, but not bigger than 25\")\n",
    "else:\n",
    "    print(\"age is smaller than 25 and smaller than 20\")"
   ]
  },
  {
   "cell_type": "code",
   "execution_count": null,
   "id": "personalized-bookmark",
   "metadata": {},
   "outputs": [],
   "source": []
  }
 ],
 "metadata": {
  "kernelspec": {
   "display_name": "Python 3",
   "language": "python",
   "name": "python3"
  },
  "language_info": {
   "codemirror_mode": {
    "name": "ipython",
    "version": 3
   },
   "file_extension": ".py",
   "mimetype": "text/x-python",
   "name": "python",
   "nbconvert_exporter": "python",
   "pygments_lexer": "ipython3",
   "version": "3.7.7"
  }
 },
 "nbformat": 4,
 "nbformat_minor": 5
}
