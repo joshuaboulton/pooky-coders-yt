{
 "cells": [
  {
   "cell_type": "code",
   "execution_count": 1,
   "id": "regional-dover",
   "metadata": {},
   "outputs": [
    {
     "data": {
      "text/plain": [
       "'1.21.4'"
      ]
     },
     "execution_count": 1,
     "metadata": {},
     "output_type": "execute_result"
    }
   ],
   "source": [
    "import numpy as np\n",
    "np.__version__"
   ]
  },
  {
   "cell_type": "code",
   "execution_count": 2,
   "id": "mobile-doctrine",
   "metadata": {},
   "outputs": [],
   "source": [
    "class SGDOptimizer:\n",
    "    def __init__(self,lr :float):\n",
    "        self.lr = lr\n",
    "    def apply(self,vector,dvector):\n",
    "        return vector - dvector * self.lr\n",
    "\n",
    "class DenseLayer():\n",
    "    def __init__(self,input_nodes : int,output_nodes : int):\n",
    "        self.learnable = True\n",
    "        self.input_nodes = input_nodes\n",
    "        self.output_nodes = output_nodes\n",
    "        self.weight = np.random.randn(self.output_nodes * self.input_nodes).reshape((self.output_nodes,self.input_nodes))\n",
    "        self.bias = np.random.randn(self.output_nodes)\n",
    "        self.gradient_weight = None\n",
    "        self.gradient_bias = None\n",
    "        self.input = None\n",
    "    def forward(self,X : np.ndarray) -> np.ndarray:\n",
    "        self.input = X\n",
    "        return self.weight @ X + self.bias\n",
    "    def backward(self,delta):\n",
    "        self.gradient_weight = delta.reshape((self.output_nodes,1))  @ self.input.reshape((1,self.input_nodes))\n",
    "        self.gradient_bias = delta\n",
    "        dX = self.weight.T @ delta\n",
    "        return dX\n",
    "    def apply(self,opt):\n",
    "        self.weight = opt.apply(self.weight,self.gradient_weight)\n",
    "        self.bias = opt.apply(self.bias,self.gradient_bias)\n",
    "        "
   ]
  },
  {
   "cell_type": "code",
   "execution_count": 3,
   "id": "intended-petite",
   "metadata": {},
   "outputs": [],
   "source": [
    "sample_input = np.array([0.5,0.5])\n",
    "dense_layer = DenseLayer(2,4)"
   ]
  },
  {
   "cell_type": "code",
   "execution_count": 4,
   "id": "arabic-asbestos",
   "metadata": {},
   "outputs": [
    {
     "data": {
      "text/plain": [
       "array([ 0.08896882, -0.13611622, -1.72671291, -0.65042457])"
      ]
     },
     "execution_count": 4,
     "metadata": {},
     "output_type": "execute_result"
    }
   ],
   "source": [
    "dense_layer.forward(sample_input)"
   ]
  },
  {
   "cell_type": "code",
   "execution_count": 5,
   "id": "blessed-idaho",
   "metadata": {},
   "outputs": [
    {
     "data": {
      "text/plain": [
       "array([-2.25026662,  0.37713448])"
      ]
     },
     "execution_count": 5,
     "metadata": {},
     "output_type": "execute_result"
    }
   ],
   "source": [
    "dense_layer.backward(np.array([1,1,0,2]))"
   ]
  },
  {
   "cell_type": "code",
   "execution_count": 40,
   "id": "registered-shipping",
   "metadata": {},
   "outputs": [],
   "source": [
    "class ReluActivation:\n",
    "    def __init__(self):\n",
    "        self.learnable = False\n",
    "        self.input = None\n",
    "        self.gradient = None\n",
    "    def forward(self,X):\n",
    "        self.input = X\n",
    "        return np.maximum(X,0)\n",
    "    def backward(self,delta):\n",
    "        drelu = 1. * (self.input > 0)\n",
    "        return drelu * delta\n",
    "        \n",
    "class SigmoidActivation:\n",
    "    def __init__(self):\n",
    "        # self.input = None\n",
    "        self.learnable = False\n",
    "        self.gradient = None\n",
    "        self.output = None\n",
    "    def forward(self,X):\n",
    "        # self.input = X\n",
    "        self.output =  1 / (1 + np.exp(-X))\n",
    "        return self.output\n",
    "    def backward(self,delta):\n",
    "        dsigmoid = self.output * (1 - self.output)\n",
    "        return dsigmoid * delta"
   ]
  },
  {
   "cell_type": "code",
   "execution_count": 41,
   "id": "original-symbol",
   "metadata": {},
   "outputs": [
    {
     "data": {
      "text/plain": [
       "array([0.07050111, 0.02099872, 0.025     ])"
      ]
     },
     "execution_count": 41,
     "metadata": {},
     "output_type": "execute_result"
    }
   ],
   "source": [
    "sigmoid_activation = SigmoidActivation()\n",
    "sigmoid_activation.forward(np.array([-0.5,2,0]))\n",
    "sigmoid_activation.backward(np.array([0.3,0.2,0.1]))"
   ]
  },
  {
   "cell_type": "code",
   "execution_count": 42,
   "id": "smooth-factor",
   "metadata": {},
   "outputs": [
    {
     "data": {
      "text/plain": [
       "array([  0,   0, 125])"
      ]
     },
     "execution_count": 42,
     "metadata": {},
     "output_type": "execute_result"
    }
   ],
   "source": [
    "relu_activation = ReluActivation()\n",
    "relu_activation.forward(np.array([-25,0,125]))"
   ]
  },
  {
   "cell_type": "code",
   "execution_count": 43,
   "id": "passing-ancient",
   "metadata": {},
   "outputs": [],
   "source": [
    "class MSELoss:\n",
    "    def forward(self,y_true,y_pred):\n",
    "        return 0.5 * np.mean((y_true - y_pred)**2)\n",
    "    def backward(self,y_true,y_pred):\n",
    "        return y_pred - y_true"
   ]
  },
  {
   "cell_type": "code",
   "execution_count": 44,
   "id": "bibliographic-faith",
   "metadata": {},
   "outputs": [
    {
     "data": {
      "text/plain": [
       "array([ 1, -2])"
      ]
     },
     "execution_count": 44,
     "metadata": {},
     "output_type": "execute_result"
    }
   ],
   "source": [
    "mse = MSELoss()\n",
    "mse.backward(np.array([1,2]),np.array([2,0]))"
   ]
  },
  {
   "cell_type": "code",
   "execution_count": 45,
   "id": "dirty-neighborhood",
   "metadata": {},
   "outputs": [],
   "source": [
    "class NeuralNetwork:\n",
    "    def __init__(self,layers,loss,opt):\n",
    "        self.layers = layers\n",
    "        self.loss = loss\n",
    "        self.opt = opt\n",
    "    \n",
    "    def forward(self,X):\n",
    "        current_input = X\n",
    "        for layer in layers:\n",
    "            current_input = layer.forward(current_input)\n",
    "        return current_input\n",
    "    \n",
    "    def backward(self,y_true,y_pred):\n",
    "        dloss = self.loss.backward(y_true,y_pred)\n",
    "        current_delta = dloss\n",
    "        for layer in reversed(layers):\n",
    "            current_delta = layer.backward(current_delta)\n",
    "    def apply(self):\n",
    "        for layer in layers:\n",
    "            if layer.learnable:\n",
    "                layer.apply(self.opt)\n",
    "    def fit(self,X,y_true):\n",
    "        y_pred = self.forward(X)\n",
    "        loss = self.loss.forward(y_true,y_pred)\n",
    "        self.backward(y_true,y_pred)\n",
    "        self.apply()\n",
    "        return loss\n"
   ]
  },
  {
   "cell_type": "code",
   "execution_count": 66,
   "id": "medium-smart",
   "metadata": {},
   "outputs": [],
   "source": [
    "Xs = np.array([[0,1],[1,1],[1,0],[1,1]])\n",
    "Ys = np.array([[1],[0],[1],[0]])\n",
    "layers = [\n",
    "    DenseLayer(2,2),\n",
    "    SigmoidActivation(),\n",
    "    DenseLayer(2,1),\n",
    "    SigmoidActivation()\n",
    "]\n",
    "nn = NeuralNetwork(layers,MSELoss(),SGDOptimizer(0.3))"
   ]
  },
  {
   "cell_type": "code",
   "execution_count": 67,
   "id": "focused-walnut",
   "metadata": {},
   "outputs": [
    {
     "data": {
      "text/plain": [
       "0.09145182576909387"
      ]
     },
     "execution_count": 67,
     "metadata": {},
     "output_type": "execute_result"
    }
   ],
   "source": [
    "nn.fit(Xs[0],Ys[0])"
   ]
  },
  {
   "cell_type": "code",
   "execution_count": 68,
   "id": "vanilla-aerospace",
   "metadata": {},
   "outputs": [
    {
     "name": "stdout",
     "output_type": "stream",
     "text": [
      "EPOCH 0: 0.1418\n",
      "EPOCH 1000: 0.0038\n",
      "EPOCH 2000: 0.0010\n",
      "EPOCH 3000: 0.0005\n",
      "EPOCH 4000: 0.0004\n",
      "EPOCH 5000: 0.0003\n",
      "EPOCH 6000: 0.0002\n",
      "EPOCH 7000: 0.0002\n",
      "EPOCH 8000: 0.0002\n",
      "EPOCH 9000: 0.0001\n"
     ]
    }
   ],
   "source": [
    "EPOCHS = 10000\n",
    "for i in range(EPOCHS):\n",
    "    loss = 0\n",
    "    random_inds = np.arange(4)\n",
    "    np.random.shuffle(random_inds)\n",
    "    for x, y in zip(Xs[random_inds],Ys[random_inds]):\n",
    "        loss += nn.fit(x,y)\n",
    "    loss /= Xs.shape[0]\n",
    "    if i % 1000 == 0:\n",
    "        print(f\"EPOCH {i}: {loss:.4f}\")"
   ]
  },
  {
   "cell_type": "code",
   "execution_count": 65,
   "id": "cardiovascular-casting",
   "metadata": {},
   "outputs": [
    {
     "name": "stdout",
     "output_type": "stream",
     "text": [
      "Target=[1],Predicted=[1.]\n",
      "Target=[0],Predicted=[0.]\n",
      "Target=[1],Predicted=[1.]\n",
      "Target=[0],Predicted=[0.]\n"
     ]
    }
   ],
   "source": [
    "for x,y in zip(Xs,Ys):\n",
    "    y_pred = nn.forward(x)\n",
    "    print(f\"Target={y},Predicted={y_pred}\")"
   ]
  },
  {
   "cell_type": "code",
   "execution_count": null,
   "id": "middle-nicaragua",
   "metadata": {},
   "outputs": [],
   "source": []
  }
 ],
 "metadata": {
  "kernelspec": {
   "display_name": "Python 3",
   "language": "python",
   "name": "python3"
  },
  "language_info": {
   "codemirror_mode": {
    "name": "ipython",
    "version": 3
   },
   "file_extension": ".py",
   "mimetype": "text/x-python",
   "name": "python",
   "nbconvert_exporter": "python",
   "pygments_lexer": "ipython3",
   "version": "3.7.7"
  }
 },
 "nbformat": 4,
 "nbformat_minor": 5
}
