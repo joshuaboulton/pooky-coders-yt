{
 "cells": [
  {
   "cell_type": "code",
   "execution_count": 1,
   "id": "38ce93ca-a731-4f5c-a2a6-f16b9ff5c3f7",
   "metadata": {},
   "outputs": [],
   "source": [
    "import torchvision\n",
    "import torch"
   ]
  },
  {
   "cell_type": "code",
   "execution_count": 3,
   "id": "4060c793-ca0b-4cc4-bac8-57eb46a4973a",
   "metadata": {},
   "outputs": [
    {
     "data": {
      "text/plain": [
       "'0.11.1'"
      ]
     },
     "execution_count": 3,
     "metadata": {},
     "output_type": "execute_result"
    }
   ],
   "source": [
    "torchvision.__version__"
   ]
  },
  {
   "cell_type": "code",
   "execution_count": 4,
   "id": "f7e6e2bb-4eeb-440b-8039-e18df11fff34",
   "metadata": {},
   "outputs": [
    {
     "data": {
      "text/plain": [
       "'1.10.0'"
      ]
     },
     "execution_count": 4,
     "metadata": {},
     "output_type": "execute_result"
    }
   ],
   "source": [
    "torch.__version__"
   ]
  },
  {
   "cell_type": "code",
   "execution_count": 17,
   "id": "032bd902-f860-4cfc-aa91-f4873531d452",
   "metadata": {},
   "outputs": [],
   "source": [
    "from torchvision.datasets import MNIST\n",
    "from torchvision.transforms import Compose, ToTensor, Lambda\n",
    "transform = Compose([\n",
    "    ToTensor(),\n",
    "    # Lambda(lambda image: image / 255),\n",
    "    Lambda(lambda image: image.view(784))\n",
    "])\n",
    "data_train = MNIST(root=\"./\",download=True,train=True,transform=transform)\n",
    "data_test = MNIST(root=\"./\",download=True,train=False,transform=transform)"
   ]
  },
  {
   "cell_type": "code",
   "execution_count": 19,
   "id": "cc048126-5a2c-4aca-9880-5254821ca375",
   "metadata": {},
   "outputs": [
    {
     "data": {
      "text/plain": [
       "torch.Size([784])"
      ]
     },
     "execution_count": 19,
     "metadata": {},
     "output_type": "execute_result"
    }
   ],
   "source": [
    "data_train[0][0].shape"
   ]
  },
  {
   "cell_type": "code",
   "execution_count": 20,
   "id": "c657bc51-84d4-435d-9cec-44aefa11a8bc",
   "metadata": {},
   "outputs": [
    {
     "data": {
      "text/plain": [
       "5"
      ]
     },
     "execution_count": 20,
     "metadata": {},
     "output_type": "execute_result"
    }
   ],
   "source": [
    "data_train[0][1]"
   ]
  },
  {
   "cell_type": "code",
   "execution_count": 42,
   "id": "a8390013-e909-4091-99c8-fbccda1fc033",
   "metadata": {},
   "outputs": [],
   "source": [
    "from torch import nn, optim\n",
    "import torch\n",
    "def get_default_device():\n",
    "    return torch.device(\"cuda\") if torch.cuda.is_available() else torch.device(\"cpu\")\n",
    "\n",
    "def to_t(tensor,device=get_default_device()):\n",
    "    return tensor.to(device)\n",
    "\n",
    "class MNISTModel(nn.Module):\n",
    "    def __init__(self):\n",
    "        super().__init__()\n",
    "        self.layers = nn.Sequential(\n",
    "            nn.Linear(784,512),\n",
    "            nn.ReLU(),\n",
    "            nn.Linear(512,512),\n",
    "            nn.ReLU(),\n",
    "            nn.Linear(512,10)\n",
    "        )\n",
    "        self.loss = nn.CrossEntropyLoss()\n",
    "        self.optimizer = optim.Adam(self.parameters())\n",
    "        self.to(get_default_device())\n",
    "    def forward(self,X):\n",
    "        return self.layers(X)\n",
    "    \n",
    "    def predict(self,X):\n",
    "        with torch.no_grad():\n",
    "            return torch.argmax(self.forward(X),axis=-1)\n",
    "    def fit(self,X,Y):\n",
    "        self.optimizer.zero_grad()\n",
    "        y_pred = self.forward(X)\n",
    "        loss = self.loss(y_pred,Y)\n",
    "        loss.backward()\n",
    "        self.optimizer.step()\n",
    "        return loss.item()"
   ]
  },
  {
   "cell_type": "code",
   "execution_count": 43,
   "id": "1a0be2f9-7a30-4b9f-bb73-41b5a61634a3",
   "metadata": {},
   "outputs": [],
   "source": [
    "mnist_model = MNISTModel()"
   ]
  },
  {
   "cell_type": "code",
   "execution_count": 44,
   "id": "2aeb6500-adf4-4e61-a532-d101cafb988b",
   "metadata": {},
   "outputs": [],
   "source": [
    "from torch.utils.data import DataLoader\n",
    "BATCH_SIZE = 16\n",
    "dataloader_train = DataLoader(data_train,batch_size=BATCH_SIZE,shuffle=True)\n",
    "dataloader_test = DataLoader(data_test,batch_size=BATCH_SIZE,shuffle=True)"
   ]
  },
  {
   "cell_type": "code",
   "execution_count": 45,
   "id": "ed243e9b-fed8-4eec-a06a-624c805ca235",
   "metadata": {},
   "outputs": [
    {
     "name": "stderr",
     "output_type": "stream",
     "text": [
      "FITTING EPOCH 0: 100%|███████████████████████████████████████████████████████████████████| 3750/3750 [00:15<00:00, 242.87it/s]\n",
      "FITTING EPOCH 1:   1%|▍                                                                    | 24/3750 [00:00<00:15, 233.81it/s]"
     ]
    },
    {
     "name": "stdout",
     "output_type": "stream",
     "text": [
      "EPOCH 0: 0.1954\n"
     ]
    },
    {
     "name": "stderr",
     "output_type": "stream",
     "text": [
      "FITTING EPOCH 1: 100%|███████████████████████████████████████████████████████████████████| 3750/3750 [00:14<00:00, 254.82it/s]\n",
      "FITTING EPOCH 2:   1%|▍                                                                    | 24/3750 [00:00<00:15, 237.95it/s]"
     ]
    },
    {
     "name": "stdout",
     "output_type": "stream",
     "text": [
      "EPOCH 1: 0.0873\n"
     ]
    },
    {
     "name": "stderr",
     "output_type": "stream",
     "text": [
      "FITTING EPOCH 2: 100%|███████████████████████████████████████████████████████████████████| 3750/3750 [00:15<00:00, 249.19it/s]\n",
      "FITTING EPOCH 3:   1%|▍                                                                    | 26/3750 [00:00<00:14, 253.07it/s]"
     ]
    },
    {
     "name": "stdout",
     "output_type": "stream",
     "text": [
      "EPOCH 2: 0.0637\n"
     ]
    },
    {
     "name": "stderr",
     "output_type": "stream",
     "text": [
      "FITTING EPOCH 3: 100%|███████████████████████████████████████████████████████████████████| 3750/3750 [00:14<00:00, 252.31it/s]\n",
      "FITTING EPOCH 4:   1%|▍                                                                    | 22/3750 [00:00<00:17, 213.58it/s]"
     ]
    },
    {
     "name": "stdout",
     "output_type": "stream",
     "text": [
      "EPOCH 3: 0.0485\n"
     ]
    },
    {
     "name": "stderr",
     "output_type": "stream",
     "text": [
      "FITTING EPOCH 4: 100%|███████████████████████████████████████████████████████████████████| 3750/3750 [00:15<00:00, 243.47it/s]"
     ]
    },
    {
     "name": "stdout",
     "output_type": "stream",
     "text": [
      "EPOCH 4: 0.0407\n"
     ]
    },
    {
     "name": "stderr",
     "output_type": "stream",
     "text": [
      "\n"
     ]
    }
   ],
   "source": [
    "from tqdm import tqdm\n",
    "EPOCHS = 5\n",
    "for i in range(EPOCHS):\n",
    "    total_loss = 0\n",
    "    for r_xs, r_ys in tqdm(dataloader_train,desc=f\"FITTING EPOCH {i}\"):\n",
    "        xs, ys = to_t(r_xs), to_t(r_ys)\n",
    "        total_loss += mnist_model.fit(xs,ys)\n",
    "    total_loss /= len(dataloader_train)\n",
    "    print(f\"EPOCH {i}: {total_loss:.4f}\")"
   ]
  },
  {
   "cell_type": "code",
   "execution_count": 46,
   "id": "fed7ddd5-2cf7-43b5-8406-2533a659f3c6",
   "metadata": {},
   "outputs": [
    {
     "name": "stdout",
     "output_type": "stream",
     "text": [
      "ACCURACY: 0.976699948310852\n"
     ]
    }
   ],
   "source": [
    "correct = 0\n",
    "for r_xs, r_ys in dataloader_test:\n",
    "    # print(mnist_model.predict(xs))\n",
    "    xs, ys = to_t(r_xs), to_t(r_ys)\n",
    "    y_pred = mnist_model.predict(xs)\n",
    "    correct += (ys == y_pred).sum()\n",
    "acc = correct / (len(dataloader_test) * BATCH_SIZE)\n",
    "print(f\"ACCURACY: {acc}\")"
   ]
  },
  {
   "cell_type": "code",
   "execution_count": 39,
   "id": "c9807a57-8048-45e6-a1e8-a76f3ef52ac8",
   "metadata": {},
   "outputs": [
    {
     "data": {
      "text/plain": [
       "625"
      ]
     },
     "execution_count": 39,
     "metadata": {},
     "output_type": "execute_result"
    }
   ],
   "source": [
    "len(dataloader_test)"
   ]
  },
  {
   "cell_type": "code",
   "execution_count": 41,
   "id": "b970460a-5e34-4603-b35c-1d9c7ef6e2fa",
   "metadata": {},
   "outputs": [
    {
     "data": {
      "text/plain": [
       "10000"
      ]
     },
     "execution_count": 41,
     "metadata": {},
     "output_type": "execute_result"
    }
   ],
   "source": [
    "625 * 16"
   ]
  },
  {
   "cell_type": "code",
   "execution_count": null,
   "id": "01f5661d-6637-4c84-818d-51c4613be00c",
   "metadata": {},
   "outputs": [],
   "source": []
  }
 ],
 "metadata": {
  "kernelspec": {
   "display_name": "Python 3 (ipykernel)",
   "language": "python",
   "name": "python3"
  },
  "language_info": {
   "codemirror_mode": {
    "name": "ipython",
    "version": 3
   },
   "file_extension": ".py",
   "mimetype": "text/x-python",
   "name": "python",
   "nbconvert_exporter": "python",
   "pygments_lexer": "ipython3",
   "version": "3.8.12"
  }
 },
 "nbformat": 4,
 "nbformat_minor": 5
}
